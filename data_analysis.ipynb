{
 "cells": [
  {
   "cell_type": "markdown",
   "id": "589b0975",
   "metadata": {},
   "source": [
    "# AI Project: Recommender System for Netflix Movies and TV Show"
   ]
  },
  {
   "cell_type": "markdown",
   "id": "080b585b",
   "metadata": {},
   "source": [
    "## Globals and Imports"
   ]
  },
  {
   "cell_type": "code",
   "execution_count": 1,
   "id": "8c84fdbd",
   "metadata": {},
   "outputs": [],
   "source": [
    "import pandas as pd \n",
    "import matplotlib.pyplot as plt\n",
    "import seaborn as sns"
   ]
  },
  {
   "cell_type": "markdown",
   "id": "d9d378af",
   "metadata": {},
   "source": [
    "## Load the data"
   ]
  },
  {
   "cell_type": "code",
   "execution_count": 2,
   "id": "cc834c0f",
   "metadata": {},
   "outputs": [],
   "source": [
    "df = pd.read_csv('netflix_titles.csv')"
   ]
  },
  {
   "cell_type": "markdown",
   "id": "924dc8b8",
   "metadata": {},
   "source": [
    "## Data Exploration\n",
    "- The data has 8807 rows and 12 columns"
   ]
  },
  {
   "cell_type": "code",
   "execution_count": 3,
   "id": "5981d97b",
   "metadata": {},
   "outputs": [
    {
     "name": "stdout",
     "output_type": "stream",
     "text": [
      "Dataset shape: (8807, 12)\n"
     ]
    }
   ],
   "source": [
    "print(f\"Dataset shape: {df.shape}\")\n"
   ]
  },
  {
   "cell_type": "code",
   "execution_count": 4,
   "id": "dab31a97",
   "metadata": {},
   "outputs": [
    {
     "data": {
      "text/html": [
       "<div>\n",
       "<style scoped>\n",
       "    .dataframe tbody tr th:only-of-type {\n",
       "        vertical-align: middle;\n",
       "    }\n",
       "\n",
       "    .dataframe tbody tr th {\n",
       "        vertical-align: top;\n",
       "    }\n",
       "\n",
       "    .dataframe thead th {\n",
       "        text-align: right;\n",
       "    }\n",
       "</style>\n",
       "<table border=\"1\" class=\"dataframe\">\n",
       "  <thead>\n",
       "    <tr style=\"text-align: right;\">\n",
       "      <th></th>\n",
       "      <th>show_id</th>\n",
       "      <th>type</th>\n",
       "      <th>title</th>\n",
       "      <th>director</th>\n",
       "      <th>cast</th>\n",
       "      <th>country</th>\n",
       "      <th>date_added</th>\n",
       "      <th>release_year</th>\n",
       "      <th>rating</th>\n",
       "      <th>duration</th>\n",
       "      <th>listed_in</th>\n",
       "      <th>description</th>\n",
       "    </tr>\n",
       "  </thead>\n",
       "  <tbody>\n",
       "    <tr>\n",
       "      <th>0</th>\n",
       "      <td>s1</td>\n",
       "      <td>Movie</td>\n",
       "      <td>Dick Johnson Is Dead</td>\n",
       "      <td>Kirsten Johnson</td>\n",
       "      <td>NaN</td>\n",
       "      <td>United States</td>\n",
       "      <td>September 25, 2021</td>\n",
       "      <td>2020</td>\n",
       "      <td>PG-13</td>\n",
       "      <td>90 min</td>\n",
       "      <td>Documentaries</td>\n",
       "      <td>As her father nears the end of his life, filmm...</td>\n",
       "    </tr>\n",
       "    <tr>\n",
       "      <th>1</th>\n",
       "      <td>s2</td>\n",
       "      <td>TV Show</td>\n",
       "      <td>Blood &amp; Water</td>\n",
       "      <td>NaN</td>\n",
       "      <td>Ama Qamata, Khosi Ngema, Gail Mabalane, Thaban...</td>\n",
       "      <td>South Africa</td>\n",
       "      <td>September 24, 2021</td>\n",
       "      <td>2021</td>\n",
       "      <td>TV-MA</td>\n",
       "      <td>2 Seasons</td>\n",
       "      <td>International TV Shows, TV Dramas, TV Mysteries</td>\n",
       "      <td>After crossing paths at a party, a Cape Town t...</td>\n",
       "    </tr>\n",
       "    <tr>\n",
       "      <th>2</th>\n",
       "      <td>s3</td>\n",
       "      <td>TV Show</td>\n",
       "      <td>Ganglands</td>\n",
       "      <td>Julien Leclercq</td>\n",
       "      <td>Sami Bouajila, Tracy Gotoas, Samuel Jouy, Nabi...</td>\n",
       "      <td>NaN</td>\n",
       "      <td>September 24, 2021</td>\n",
       "      <td>2021</td>\n",
       "      <td>TV-MA</td>\n",
       "      <td>1 Season</td>\n",
       "      <td>Crime TV Shows, International TV Shows, TV Act...</td>\n",
       "      <td>To protect his family from a powerful drug lor...</td>\n",
       "    </tr>\n",
       "    <tr>\n",
       "      <th>3</th>\n",
       "      <td>s4</td>\n",
       "      <td>TV Show</td>\n",
       "      <td>Jailbirds New Orleans</td>\n",
       "      <td>NaN</td>\n",
       "      <td>NaN</td>\n",
       "      <td>NaN</td>\n",
       "      <td>September 24, 2021</td>\n",
       "      <td>2021</td>\n",
       "      <td>TV-MA</td>\n",
       "      <td>1 Season</td>\n",
       "      <td>Docuseries, Reality TV</td>\n",
       "      <td>Feuds, flirtations and toilet talk go down amo...</td>\n",
       "    </tr>\n",
       "    <tr>\n",
       "      <th>4</th>\n",
       "      <td>s5</td>\n",
       "      <td>TV Show</td>\n",
       "      <td>Kota Factory</td>\n",
       "      <td>NaN</td>\n",
       "      <td>Mayur More, Jitendra Kumar, Ranjan Raj, Alam K...</td>\n",
       "      <td>India</td>\n",
       "      <td>September 24, 2021</td>\n",
       "      <td>2021</td>\n",
       "      <td>TV-MA</td>\n",
       "      <td>2 Seasons</td>\n",
       "      <td>International TV Shows, Romantic TV Shows, TV ...</td>\n",
       "      <td>In a city of coaching centers known to train I...</td>\n",
       "    </tr>\n",
       "  </tbody>\n",
       "</table>\n",
       "</div>"
      ],
      "text/plain": [
       "  show_id     type                  title         director  \\\n",
       "0      s1    Movie   Dick Johnson Is Dead  Kirsten Johnson   \n",
       "1      s2  TV Show          Blood & Water              NaN   \n",
       "2      s3  TV Show              Ganglands  Julien Leclercq   \n",
       "3      s4  TV Show  Jailbirds New Orleans              NaN   \n",
       "4      s5  TV Show           Kota Factory              NaN   \n",
       "\n",
       "                                                cast        country  \\\n",
       "0                                                NaN  United States   \n",
       "1  Ama Qamata, Khosi Ngema, Gail Mabalane, Thaban...   South Africa   \n",
       "2  Sami Bouajila, Tracy Gotoas, Samuel Jouy, Nabi...            NaN   \n",
       "3                                                NaN            NaN   \n",
       "4  Mayur More, Jitendra Kumar, Ranjan Raj, Alam K...          India   \n",
       "\n",
       "           date_added  release_year rating   duration  \\\n",
       "0  September 25, 2021          2020  PG-13     90 min   \n",
       "1  September 24, 2021          2021  TV-MA  2 Seasons   \n",
       "2  September 24, 2021          2021  TV-MA   1 Season   \n",
       "3  September 24, 2021          2021  TV-MA   1 Season   \n",
       "4  September 24, 2021          2021  TV-MA  2 Seasons   \n",
       "\n",
       "                                           listed_in  \\\n",
       "0                                      Documentaries   \n",
       "1    International TV Shows, TV Dramas, TV Mysteries   \n",
       "2  Crime TV Shows, International TV Shows, TV Act...   \n",
       "3                             Docuseries, Reality TV   \n",
       "4  International TV Shows, Romantic TV Shows, TV ...   \n",
       "\n",
       "                                         description  \n",
       "0  As her father nears the end of his life, filmm...  \n",
       "1  After crossing paths at a party, a Cape Town t...  \n",
       "2  To protect his family from a powerful drug lor...  \n",
       "3  Feuds, flirtations and toilet talk go down amo...  \n",
       "4  In a city of coaching centers known to train I...  "
      ]
     },
     "execution_count": 4,
     "metadata": {},
     "output_type": "execute_result"
    }
   ],
   "source": [
    "#print(\"\\nFirst 5 rows of the dataset:\")\n",
    "df.head()\n"
   ]
  },
  {
   "cell_type": "code",
   "execution_count": 5,
   "id": "7376818e",
   "metadata": {},
   "outputs": [
    {
     "name": "stdout",
     "output_type": "stream",
     "text": [
      "<class 'pandas.core.frame.DataFrame'>\n",
      "RangeIndex: 8807 entries, 0 to 8806\n",
      "Data columns (total 12 columns):\n",
      " #   Column        Non-Null Count  Dtype \n",
      "---  ------        --------------  ----- \n",
      " 0   show_id       8807 non-null   object\n",
      " 1   type          8807 non-null   object\n",
      " 2   title         8807 non-null   object\n",
      " 3   director      6173 non-null   object\n",
      " 4   cast          7982 non-null   object\n",
      " 5   country       7976 non-null   object\n",
      " 6   date_added    8797 non-null   object\n",
      " 7   release_year  8807 non-null   int64 \n",
      " 8   rating        8803 non-null   object\n",
      " 9   duration      8804 non-null   object\n",
      " 10  listed_in     8807 non-null   object\n",
      " 11  description   8807 non-null   object\n",
      "dtypes: int64(1), object(11)\n",
      "memory usage: 825.8+ KB\n"
     ]
    }
   ],
   "source": [
    "# print(\"\\nDataset Info:\")\n",
    "df.info()"
   ]
  },
  {
   "cell_type": "markdown",
   "id": "c67780b2",
   "metadata": {},
   "source": [
    "- We can see here that director, cast, country, data_added, rating, duration all have some null values"
   ]
  },
  {
   "cell_type": "markdown",
   "id": "62011998",
   "metadata": {},
   "source": [
    "### Columns with missing values and their counts"
   ]
  },
  {
   "cell_type": "code",
   "execution_count": 6,
   "id": "a11fc935",
   "metadata": {},
   "outputs": [
    {
     "data": {
      "text/plain": [
       "show_id            0\n",
       "type               0\n",
       "title              0\n",
       "director        2634\n",
       "cast             825\n",
       "country          831\n",
       "date_added        10\n",
       "release_year       0\n",
       "rating             4\n",
       "duration           3\n",
       "listed_in          0\n",
       "description        0\n",
       "dtype: int64"
      ]
     },
     "execution_count": 6,
     "metadata": {},
     "output_type": "execute_result"
    }
   ],
   "source": [
    "df.isnull().sum()"
   ]
  },
  {
   "cell_type": "code",
   "execution_count": 7,
   "id": "b718615d",
   "metadata": {},
   "outputs": [
    {
     "name": "stdout",
     "output_type": "stream",
     "text": [
      "\n",
      "Missing values after cleaning key text columns:\n",
      "director      0\n",
      "cast          0\n",
      "date_added    0\n",
      "country       0\n",
      "rating        0\n",
      "duration      0\n",
      "dtype: int64\n"
     ]
    }
   ],
   "source": [
    "# Fill missing values in key text columns with empty strings\n",
    "# This prevents errors when we combine them later.\n",
    "text_columns = ['director', 'cast', 'country', 'rating', 'duration']\n",
    "for col in text_columns:\n",
    "    df[col] = df[col].fillna('')\n",
    "\n",
    "df['date_added'] = df['date_added'].fillna('')\n",
    "\n",
    "# Verify that the missing values in these specific columns are filled\n",
    "print(\"\\nMissing values after cleaning key text columns:\")\n",
    "print(df[['director', 'cast', 'date_added', 'country', 'rating', 'duration']].isnull().sum())"
   ]
  },
  {
   "cell_type": "markdown",
   "id": "d8df4c87",
   "metadata": {},
   "source": [
    "### Visual Analysis"
   ]
  },
  {
   "cell_type": "code",
   "execution_count": 8,
   "id": "b6de4826",
   "metadata": {},
   "outputs": [
    {
     "name": "stderr",
     "output_type": "stream",
     "text": [
      "C:\\Users\\nickp\\AppData\\Local\\Temp\\ipykernel_21064\\874693359.py:5: FutureWarning: \n",
      "\n",
      "Passing `palette` without assigning `hue` is deprecated and will be removed in v0.14.0. Assign the `x` variable to `hue` and set `legend=False` for the same effect.\n",
      "\n",
      "  sns.countplot(x='type', data=df, palette='viridis')\n"
     ]
    },
    {
     "data": {
      "text/plain": [
       "Text(0, 0.5, 'Count')"
      ]
     },
     "execution_count": 8,
     "metadata": {},
     "output_type": "execute_result"
    },
    {
     "data": {
      "image/png": "[encoded data removed]",
      "text/plain": [
       "<Figure size 500x300 with 1 Axes>"
      ]
     },
     "metadata": {},
     "output_type": "display_data"
    }
   ],
   "source": [
    "sns.set_style('darkgrid')\n",
    "\n",
    "# Plot 1: Distribution of Content Type (Movie vs. TV Show)\n",
    "plt.figure(figsize=(5, 3))\n",
    "sns.countplot(x='type', data=df, palette='viridis')\n",
    "plt.title('Distribution of Content: Movies vs. TV Shows')\n",
    "plt.xlabel('Content Type')\n",
    "plt.ylabel('Count')\n",
    "#plt.savefig('content_type_distribution.png') # Saves the plot as an image"
   ]
  },
  {
   "cell_type": "code",
   "execution_count": 9,
   "id": "0aea53a9",
   "metadata": {},
   "outputs": [
    {
     "name": "stderr",
     "output_type": "stream",
     "text": [
      "C:\\Users\\nickp\\AppData\\Local\\Temp\\ipykernel_21064\\2630991642.py:10: FutureWarning: \n",
      "\n",
      "Passing `palette` without assigning `hue` is deprecated and will be removed in v0.14.0. Assign the `y` variable to `hue` and set `legend=False` for the same effect.\n",
      "\n",
      "  sns.barplot(x=top_10_genres.values, y=top_10_genres.index, palette='mako')\n"
     ]
    },
    {
     "data": {
      "image/png": "[encoded data removed]",
      "text/plain": [
       "<Figure size 500x300 with 1 Axes>"
      ]
     },
     "metadata": {},
     "output_type": "display_data"
    }
   ],
   "source": [
    "# Plot 2: Top 10 Genres\n",
    "plt.figure(figsize=(5, 3))\n",
    "# The 'listed_in' column has multiple genres separated by commas.\n",
    "# We need to split them, count each one, and plot the most common ones.\n",
    "\n",
    "#genre_data = df['listed_in'].str.split(', ').explode()\n",
    "top_10_genres = df['listed_in'].str.split(', ').explode().value_counts().iloc[:10]\n",
    "\n",
    "#sns.countplot(y=genre_data, order=genre_data.value_counts().iloc[:10].index, palette='mako')\n",
    "sns.barplot(x=top_10_genres.values, y=top_10_genres.index, palette='mako')\n",
    "\n",
    "\n",
    "plt.title('Top 10 Genres on Netflix')\n",
    "plt.xlabel('Count')\n",
    "plt.ylabel('Genre')\n",
    "plt.tight_layout()\n",
    "#plt.savefig('top_10_genres.png') # Saves the plot as an image\n"
   ]
  },
  {
   "cell_type": "markdown",
   "id": "be9ae4f4",
   "metadata": {},
   "source": [
    "## Recommendation Function"
   ]
  },
  {
   "cell_type": "code",
   "execution_count": 10,
   "id": "c8fddf7f",
   "metadata": {},
   "outputs": [
    {
     "name": "stdout",
     "output_type": "stream",
     "text": [
      "Creating a 'content' column by combining key text features...\n",
      "'content' column created successfully.\n",
      "Example content for the first movie:\n",
      "kirsten johnson  documentaries as her father nears the end of his life, filmmaker kirsten johnson stages his death in inventive and comical ways to help them both face the inevitable.\n"
     ]
    }
   ],
   "source": [
    "print(\"Creating a 'content' column by combining key text features...\")\n",
    "\n",
    "# For each movie, combine director, cast, genres, and description into a single string.\n",
    "# We use .lower() to ensure all text is lowercase for consistency.\n",
    "df['content'] = df['director'].str.lower() + ' ' + df['cast'].str.lower() + ' ' + df['listed_in'].str.lower() + ' ' + df['description'].str.lower()\n",
    "\n",
    "print(\"'content' column created successfully.\")\n",
    "print(\"Example content for the first movie:\")\n",
    "print(df['content'].iloc[0])"
   ]
  },
  {
   "cell_type": "code",
   "execution_count": 11,
   "id": "83bb3698",
   "metadata": {},
   "outputs": [
    {
     "name": "stdout",
     "output_type": "stream",
     "text": [
      "\n",
      "Vectorizing text data using TF-IDF...\n",
      "TF-IDF matrix created successfully.\n",
      "Shape of TF-IDF matrix: (8807, 49941)\n"
     ]
    }
   ],
   "source": [
    "# Convert Text to Numbers (TF-IDF Vectorization) \n",
    "from sklearn.feature_extraction.text import TfidfVectorizer\n",
    "\n",
    "print(\"\\nVectorizing text data using TF-IDF...\")\n",
    "\n",
    "# Create a TF-IDF Vectorizer object.\n",
    "# stop_words='english' removes common English words that don't add much meaning.\n",
    "tfidf = TfidfVectorizer(stop_words='english')\n",
    "\n",
    "# Apply the vectorizer to our 'content' column.\n",
    "# This creates a large matrix where each row is a movie and each column is a word's TF-IDF score.\n",
    "tfidf_matrix = tfidf.fit_transform(df['content'])\n",
    "\n",
    "print(\"TF-IDF matrix created successfully.\")\n",
    "print(f\"Shape of TF-IDF matrix: {tfidf_matrix.shape}\")"
   ]
  },
  {
   "cell_type": "code",
   "execution_count": 12,
   "id": "f1d9a26c",
   "metadata": {},
   "outputs": [
    {
     "name": "stdout",
     "output_type": "stream",
     "text": [
      "Cosine similarity matrix created successfully.\n",
      "Shape of cosine similarity matrix: (8807, 8807)\n"
     ]
    }
   ],
   "source": [
    "from sklearn.metrics.pairwise import cosine_similarity\n",
    "\n",
    "# Calculate the cosine similarity between all movie vectors\n",
    "cosine_sim = cosine_similarity(tfidf_matrix, tfidf_matrix)\n",
    "\n",
    "print(\"Cosine similarity matrix created successfully.\")\n",
    "print(f\"Shape of cosine similarity matrix: {cosine_sim.shape}\")"
   ]
  },
  {
   "cell_type": "code",
   "execution_count": 13,
   "id": "f14dba2b",
   "metadata": {},
   "outputs": [
    {
     "name": "stdout",
     "output_type": "stream",
     "text": [
      "Recommendations for 'Indiana Jones and the Temple of Doom':\n",
      "                                                  Title  Similarity Score\n",
      "7072      Indiana Jones and the Raiders of the Lost Ark          0.185085\n",
      "7071                 Indiana Jones and the Last Crusade          0.184125\n",
      "7070  Indiana Jones and the Kingdom of the Crystal S...          0.172272\n",
      "3343                                         Santa Girl          0.146170\n",
      "7751                                            Platoon          0.111648\n",
      "Recommendations for 'Kid Cosmic':\n",
      "                                                  Title  Similarity Score\n",
      "1213                                        Paradise PD          0.162728\n",
      "40               He-Man and the Masters of the Universe          0.158301\n",
      "4852                                       Trollhunters          0.144257\n",
      "1074  Motu Patlu the Superheroes – Super Villains fr...          0.138693\n",
      "3005        DreamWorks How to Train Your Dragon Legends          0.137807\n",
      "Recommendations for 'Blade Runner: The Final Cut':\n",
      "                                  Title  Similarity Score\n",
      "1015                        American Me          0.141338\n",
      "1904  Carlos Almaraz: Playing with Fire          0.130582\n",
      "7718                         Pawn Stars          0.110354\n",
      "7714                      Patriot Games          0.108361\n",
      "7877          Robin Hood: The Rebellion          0.101432\n",
      "Recommendations for 'Dick Johnson Is Dead':\n",
      "                                        Title  Similarity Score\n",
      "4877                                 End Game          0.138544\n",
      "7015                       How to Be a Player          0.127274\n",
      "7454                         Midnight Special          0.110801\n",
      "3927                                 New Girl          0.110284\n",
      "5233  The Death and Life of Marsha P. Johnson          0.109020\n",
      "Recommendations for 'Jailbirds New Orleans':\n",
      "                     Title  Similarity Score\n",
      "3837             Jailbirds          0.223033\n",
      "7867  Rica, Famosa, Latina          0.192108\n",
      "6360         Border Patrol          0.179173\n",
      "2394         Dating Around          0.166982\n",
      "8755     Women Behind Bars          0.154384\n",
      "Recommendations for 'Django Unchained':\n",
      "                                          Title  Similarity Score\n",
      "5203                          The Hateful Eight          0.236828\n",
      "3893        The Hateful Eight: Extended Version          0.171528\n",
      "7077                       Inglourious Basterds          0.121051\n",
      "6272                           Before the Flood          0.118084\n",
      "1028  Dad Stop Embarrassing Me - The Afterparty          0.117146\n"
     ]
    }
   ],
   "source": [
    "# print(\"\\nBuilding the recommendation function...\")\n",
    "\n",
    "# Create a pandas Series of movie titles with their corresponding index\n",
    "indices = pd.Series(df.index, index=df['title']).drop_duplicates()\n",
    "\n",
    "def get_recommendations(title, cosine_sim=cosine_sim):\n",
    "    \"\"\"\n",
    "    This function takes a movie title and returns a DataFrame with the\n",
    "    top 10 most similar movies and their similarity scores.\n",
    "    \"\"\"\n",
    "    # Get the index of the movie that matches the title\n",
    "    try:\n",
    "        idx = indices[title]\n",
    "    except KeyError:\n",
    "        return f\"Error: Movie '{title}' not found in the dataset.\"\n",
    "\n",
    "    # Get the pairwise similarity scores of all movies with that movie\n",
    "    sim_scores = list(enumerate(cosine_sim[idx]))\n",
    "\n",
    "    # Sort the movies based on the similarity scores\n",
    "    sim_scores = sorted(sim_scores, key=lambda x: x[1], reverse=True)\n",
    "\n",
    "    # Get the scores of the 5 most similar movies\n",
    "    sim_scores = sim_scores[1:6]\n",
    "\n",
    "    # Get the movie indices and their scores\n",
    "    movie_indices = [i[0] for i in sim_scores]\n",
    "    similarity_scores = [i[1] for i in sim_scores]\n",
    "\n",
    "    # Create a new DataFrame to display the results\n",
    "    recommendations_df = pd.DataFrame({\n",
    "        'Title': df['title'].iloc[movie_indices],\n",
    "        'Similarity Score': similarity_scores\n",
    "    })\n",
    "    \n",
    "    return recommendations_df\n",
    "\n",
    "\n",
    "# movie_title = \"Jaws 2\"\n",
    "# recommendations = get_recommendations(movie_title)\n",
    "# print(f\"Recommendations for '{movie_title}':\")\n",
    "# print(recommendations)\n",
    "\n",
    "# # print(\"\\n---\")\n",
    "\n",
    "# # movie_title = \"Forrest Gump\"\n",
    "# # recommendations = get_recommendations(movie_title)\n",
    "# # print(f\"Recommendations for '{movie_title}':\")\n",
    "# # print(recommendations)\n",
    "\n",
    "# print(\"\\n---\")\n",
    "\n",
    "# movie_title = \"Jaws\"\n",
    "# recommendations = get_recommendations(movie_title)\n",
    "# print(f\"Recommendations for '{movie_title}':\")\n",
    "# print(recommendations)\n",
    "\n",
    "movies = [\"Indiana Jones and the Temple of Doom\", \"Kid Cosmic\", \"Blade Runner: The Final Cut\", \"Dick Johnson Is Dead\", \"Jailbirds New Orleans\", \"Django Unchained\"]\n",
    "for movie in movies:\n",
    "    recommendations = get_recommendations(movie)\n",
    "    print(f\"Recommendations for '{movie}':\")\n",
    "    print(recommendations)\n"
   ]
  },
  {
   "cell_type": "markdown",
   "id": "10c487c4",
   "metadata": {},
   "source": [
    "## Quantitative Evaluation & Metrics"
   ]
  },
  {
   "cell_type": "code",
   "execution_count": 14,
   "id": "1ee55af4",
   "metadata": {},
   "outputs": [
    {
     "name": "stdout",
     "output_type": "stream",
     "text": [
      "\n",
      "--- Calculating Genre Consistency ---\n",
      "Genre Consistency @10 for a sample of 5000 movies: 68.69%\n"
     ]
    },
    {
     "data": {
      "text/plain": [
       "68.688"
      ]
     },
     "execution_count": 14,
     "metadata": {},
     "output_type": "execute_result"
    }
   ],
   "source": [
    "def calculate_genre_consistency(sample_size=5000):\n",
    "    \"\"\"\n",
    "    Calculates the average genre consistency for a random sample of movies.\n",
    "    \"\"\"\n",
    "    print(\"\\n--- Calculating Genre Consistency ---\")\n",
    "    consistent_recommendations = 0\n",
    "    total_recommendations = 0\n",
    "\n",
    "    # Take a random sample of movies from the dataset\n",
    "    sample_df = df.sample(n=sample_size, random_state=42)\n",
    "\n",
    "    for index, row in sample_df.iterrows():\n",
    "        title = row['title']\n",
    "        original_genres = set(row['listed_in'].split(', '))\n",
    "\n",
    "        # Get recommendations for the current movie\n",
    "        recommendations = get_recommendations(title)\n",
    "\n",
    "        if isinstance(recommendations, pd.DataFrame): # Check if recommendations were found\n",
    "            # For each recommended movie, check if it shares a genre\n",
    "            for rec_title in recommendations['Title']:\n",
    "                rec_genres = set(df[df['title'] == rec_title]['listed_in'].iloc[0].split(', '))\n",
    "                # Check for any intersection between the two sets of genres\n",
    "                if original_genres.intersection(rec_genres):\n",
    "                    consistent_recommendations += 1\n",
    "                total_recommendations += 1\n",
    "\n",
    "    consistency_score = (consistent_recommendations / total_recommendations) * 100\n",
    "    print(f\"Genre Consistency @10 for a sample of {sample_size} movies: {consistency_score:.2f}%\")\n",
    "    return consistency_score\n",
    "\n",
    "# Run the evaluation\n",
    "calculate_genre_consistency()"
   ]
  },
  {
   "cell_type": "code",
   "execution_count": null,
   "id": "2f4d44e3",
   "metadata": {},
   "outputs": [],
   "source": []
  },
  {
   "cell_type": "markdown",
   "id": "c8592cdb",
   "metadata": {},
   "source": [
    "### Comparison"
   ]
  },
  {
   "cell_type": "code",
   "execution_count": 15,
   "id": "6244bcb0",
   "metadata": {},
   "outputs": [
    {
     "name": "stdout",
     "output_type": "stream",
     "text": [
      "\n",
      "--- Running Comparison with Euclidean Distance ---\n",
      "Euclidean distance matrix created successfully.\n",
      "\n",
      "Recommendations for 'Jaws' using Euclidean Distance:\n",
      "                                     Title  Euclidean Distance\n",
      "42                                  Jaws 2            1.105224\n",
      "44                       Jaws: The Revenge            1.206576\n",
      "43                                  Jaws 3            1.341081\n",
      "7073  Indiana Jones and the Temple of Doom            1.342816\n",
      "7061                           In The Deep            1.353392\n",
      "7071    Indiana Jones and the Last Crusade            1.354614\n",
      "5930                          Mission Blue            1.356920\n",
      "7308                               Lincoln            1.357106\n",
      "279   Monster Hunter: Legends of the Guild            1.357454\n",
      "8059                           Soul Surfer            1.358475\n"
     ]
    }
   ],
   "source": [
    "# --- Step 3.3: Comparison with Euclidean Distance ---\n",
    "from sklearn.metrics.pairwise import euclidean_distances\n",
    "\n",
    "print(\"\\n--- Running Comparison with Euclidean Distance ---\")\n",
    "\n",
    "# Calculate the Euclidean distance between all movie vectors\n",
    "euclidean_dist = euclidean_distances(tfidf_matrix)\n",
    "\n",
    "print(\"Euclidean distance matrix created successfully.\")\n",
    "\n",
    "def get_recommendations_by_distance(title, distance_matrix):\n",
    "    \"\"\"\n",
    "    This function takes a movie title and returns the top 10 closest movies\n",
    "    based on a distance metric (where lower is better).\n",
    "    \"\"\"\n",
    "    # Get the index of the movie that matches the title\n",
    "    try:\n",
    "        idx = indices[title]\n",
    "    except KeyError:\n",
    "        return f\"Error: Movie '{title}' not found in the dataset.\"\n",
    "\n",
    "    # Get the pairwise distance scores\n",
    "    dist_scores = list(enumerate(distance_matrix[idx]))\n",
    "\n",
    "    # Sort the movies based on the distance scores (ascending, since lower is better)\n",
    "    dist_scores = sorted(dist_scores, key=lambda x: x[1], reverse=False)\n",
    "\n",
    "    # Get the scores of the 10 closest movies (index 0 is the movie itself)\n",
    "    dist_scores = dist_scores[1:11]\n",
    "\n",
    "    # Get the movie indices and their scores\n",
    "    movie_indices = [i[0] for i in dist_scores]\n",
    "    distance_scores = [i[1] for i in dist_scores]\n",
    "\n",
    "    # Create a new DataFrame to display the results\n",
    "    recommendations_df = pd.DataFrame({\n",
    "        'Title': df['title'].iloc[movie_indices],\n",
    "        'Euclidean Distance': distance_scores\n",
    "    })\n",
    "    \n",
    "    return recommendations_df\n",
    "\n",
    "# Let's test the recommendation quality for 'Jaws' with this new model\n",
    "print(\"\\nRecommendations for 'Jaws' using Euclidean Distance:\")\n",
    "recommendations_euclidean = get_recommendations_by_distance(\"Jaws\", distance_matrix=euclidean_dist)\n",
    "print(recommendations_euclidean)"
   ]
  },
  {
   "cell_type": "code",
   "execution_count": 16,
   "id": "d53812dd",
   "metadata": {},
   "outputs": [],
   "source": [
    "# --- MODIFIED EVALUATION FUNCTION ---\n",
    "# This version lets us test different similarity models\n",
    "\n",
    "def calculate_genre_consistency(model_name, cosine_sim_matrix, sample_size=50):\n",
    "    \"\"\"\n",
    "    Calculates the average genre consistency for a random sample of movies\n",
    "    using a provided cosine similarity matrix.\n",
    "    \"\"\"\n",
    "    print(f\"\\n--- Calculating Genre Consistency for {model_name} ---\")\n",
    "    consistent_recommendations = 0\n",
    "    total_recommendations = 0\n",
    "\n",
    "    # Take a random sample of movies from the dataset\n",
    "    # Using the same random_state ensures we test on the same sample each time\n",
    "    sample_df = df.sample(n=sample_size, random_state=42)\n",
    "\n",
    "    for index, row in sample_df.iterrows():\n",
    "        title = row['title']\n",
    "        original_genres = set(row['listed_in'].split(', '))\n",
    "\n",
    "        # Get recommendations using the provided similarity matrix\n",
    "        recommendations = get_recommendations(title, cosine_sim=cosine_sim_matrix)\n",
    "\n",
    "        if isinstance(recommendations, pd.DataFrame): # Check if recommendations were found\n",
    "            for rec_title in recommendations['Title']:\n",
    "                # Handling potential errors if a recommended title isn't found (rare)\n",
    "                if not df[df['title'] == rec_title].empty:\n",
    "                    rec_genres = set(df[df['title'] == rec_title]['listed_in'].iloc[0].split(', '))\n",
    "                    if original_genres.intersection(rec_genres):\n",
    "                        consistent_recommendations += 1\n",
    "                total_recommendations += 1\n",
    "\n",
    "    if total_recommendations > 0:\n",
    "        consistency_score = (consistent_recommendations / total_recommendations) * 100\n",
    "        print(f\"Result for {model_name}: {consistency_score:.2f}% Genre Consistency @10\")\n",
    "        return consistency_score\n",
    "    else:\n",
    "        print(f\"No recommendations generated for the sample for {model_name}.\")\n",
    "        return 0.0"
   ]
  },
  {
   "cell_type": "code",
   "execution_count": 17,
   "id": "e671b58e",
   "metadata": {},
   "outputs": [
    {
     "name": "stdout",
     "output_type": "stream",
     "text": [
      "\n",
      "\n",
      "--- Running Comparison 1: CountVectorizer vs. TF-IDF ---\n",
      "Created similarity matrix using CountVectorizer.\n",
      "\n",
      "Recommendations for 'Jaws' using CountVectorizer:\n",
      "                                     Title  Similarity Score\n",
      "42                                  Jaws 2          0.437042\n",
      "44                       Jaws: The Revenge          0.310316\n",
      "7071    Indiana Jones and the Last Crusade          0.195698\n",
      "7073  Indiana Jones and the Temple of Doom          0.191663\n",
      "579                           Midnight Run          0.172133\n",
      "\n",
      "\n",
      "--- Running Comparison 2: Euclidean Distance vs. Cosine Similarity ---\n",
      "Euclidean distance matrix created successfully.\n",
      "\n",
      "Recommendations for 'Jaws' using Euclidean Distance:\n",
      "                                     Title  Euclidean Distance\n",
      "42                                  Jaws 2            1.105224\n",
      "44                       Jaws: The Revenge            1.206576\n",
      "43                                  Jaws 3            1.341081\n",
      "7073  Indiana Jones and the Temple of Doom            1.342816\n",
      "7061                           In The Deep            1.353392\n",
      "7071    Indiana Jones and the Last Crusade            1.354614\n",
      "5930                          Mission Blue            1.356920\n",
      "7308                               Lincoln            1.357106\n",
      "279   Monster Hunter: Legends of the Guild            1.357454\n",
      "8059                           Soul Surfer            1.358475\n",
      "\n",
      "--- Calculating Genre Consistency for TF-IDF with Cosine Similarity ---\n",
      "Result for TF-IDF with Cosine Similarity: 68.52% Genre Consistency @10\n",
      "\n",
      "--- Calculating Genre Consistency for CountVectorizer with Cosine Similarity ---\n",
      "Result for CountVectorizer with Cosine Similarity: 91.60% Genre Consistency @10\n"
     ]
    },
    {
     "data": {
      "text/plain": [
       "91.60000000000001"
      ]
     },
     "execution_count": 17,
     "metadata": {},
     "output_type": "execute_result"
    }
   ],
   "source": [
    "# --- COMPARISON EXPERIMENTS ---\n",
    "\n",
    "# Import the new tools we'll need\n",
    "from sklearn.feature_extraction.text import CountVectorizer\n",
    "from sklearn.metrics.pairwise import euclidean_distances\n",
    "\n",
    "# --- Comparison 1: Using CountVectorizer (Instead of TF-IDF) ---\n",
    "\n",
    "print(\"\\n\\n--- Running Comparison 1: CountVectorizer vs. TF-IDF ---\")\n",
    "\n",
    "# 1. Create a CountVectorizer model and transform the content data\n",
    "count_vec = CountVectorizer(stop_words='english')\n",
    "count_matrix = count_vec.fit_transform(df['content'])\n",
    "\n",
    "# 2. Compute the Cosine Similarity matrix for the CountVectorizer version\n",
    "count_cosine_sim = cosine_similarity(count_matrix, count_matrix)\n",
    "print(\"Created similarity matrix using CountVectorizer.\")\n",
    "\n",
    "# 3. Test the recommendation quality for 'Jaws' with this new model\n",
    "print(\"\\nRecommendations for 'Jaws' using CountVectorizer:\")\n",
    "recommendations_countvec = get_recommendations(\"Jaws\", cosine_sim=count_cosine_sim)\n",
    "print(recommendations_countvec)\n",
    "\n",
    "\n",
    "# --- Comparison 2: Using Euclidean Distance (Instead of Cosine Similarity) ---\n",
    "\n",
    "print(\"\\n\\n--- Running Comparison 2: Euclidean Distance vs. Cosine Similarity ---\")\n",
    "\n",
    "# 1. Calculate the Euclidean distance matrix using our ORIGINAL TF-IDF matrix\n",
    "euclidean_dist = euclidean_distances(tfidf_matrix)\n",
    "print(\"Euclidean distance matrix created successfully.\")\n",
    "\n",
    "# 2. We need a separate function for distance because lower is better\n",
    "def get_recommendations_by_distance(title, distance_matrix):\n",
    "    try:\n",
    "        idx = indices[title]\n",
    "    except KeyError:\n",
    "        return f\"Error: Movie '{title}' not found in the dataset.\"\n",
    "\n",
    "    dist_scores = list(enumerate(distance_matrix[idx]))\n",
    "    # Sort by distance in ascending order (lower is more similar)\n",
    "    dist_scores = sorted(dist_scores, key=lambda x: x[1], reverse=False)\n",
    "    dist_scores = dist_scores[1:11]\n",
    "    movie_indices = [i[0] for i in dist_scores]\n",
    "\n",
    "    return pd.DataFrame({\n",
    "        'Title': df['title'].iloc[movie_indices],\n",
    "        'Euclidean Distance': [i[1] for i in dist_scores]\n",
    "    })\n",
    "\n",
    "# 3. Test the recommendation quality for 'Jaws' with this new model\n",
    "print(\"\\nRecommendations for 'Jaws' using Euclidean Distance:\")\n",
    "recommendations_euclidean = get_recommendations_by_distance(\"Jaws\", distance_matrix=euclidean_dist)\n",
    "print(recommendations_euclidean)\n",
    "\n",
    "\n",
    "# --- FINAL QUANTITATIVE COMPARISON ---\n",
    "# Now, let's use our modified evaluation function to compare the scores\n",
    "\n",
    "# Rerunning the original model for a clean comparison\n",
    "calculate_genre_consistency(\"TF-IDF with Cosine Similarity\", cosine_sim, sample_size=500)\n",
    "\n",
    "# Running the CountVectorizer model\n",
    "calculate_genre_consistency(\"CountVectorizer with Cosine Similarity\", count_cosine_sim, sample_size=500)"
   ]
  }
 ],
 "metadata": {
  "kernelspec": {
   "display_name": ".venv",
   "language": "python",
   "name": "python3"
  },
  "language_info": {
   "codemirror_mode": {
    "name": "ipython",
    "version": 3
   },
   "file_extension": ".py",
   "mimetype": "text/x-python",
   "name": "python",
   "nbconvert_exporter": "python",
   "pygments_lexer": "ipython3",
   "version": "3.13.2"
  }
 },
 "nbformat": 4,
 "nbformat_minor": 5
}
